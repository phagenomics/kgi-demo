{
 "cells": [
  {
   "cell_type": "markdown",
   "id": "3aa13e98",
   "metadata": {},
   "source": [
    "# Lab 2.- Local Alignment: Smith-Waterman Algorithm\n",
    "In this notebook, we will implement the Smith-Waterman algorithm, which is a dynamic programming algorithm used for sequence alignment. The algorithm alogorithm finds local alignments which are particularly useful seuqneces are similar only in regions, such as protein domains or nucleotide motifs.\n",
    "This algorithm compares segments of all possible lengths and optimizes the similarity measure.\n",
    "\n",
    "## Implementation\n",
    "\n",
    "We will need to perform the following steps:\n",
    "\n",
    "0. Define a scoring system for the alignment.\n",
    "1. Initialize the dynamic programming matrix.\n",
    "2. Fill in the dynamic programming matrix.\n",
    "3. Trace back through the matrix to find the optimal alignment.\n",
    "\n",
    "### 0. Scoring system\n",
    "\n",
    "The first step in implementing the Smith-Waterman algorithm is to define a scoring system for the alignment. \n",
    "We will use a simple scoring system that assigns a score of +1 for a match, -1 for a mismatch, and -2 for a gap.(Below you will be encouraged to try different scoring systems)\n"
   ]
  },
  {
   "cell_type": "code",
   "execution_count": 129,
   "id": "f76ac179",
   "metadata": {},
   "outputs": [],
   "source": [
    "match_score = \n",
    "mismatch_score = \n",
    "gap_score = "
   ]
  },
  {
   "cell_type": "markdown",
   "id": "8ebde322",
   "metadata": {},
   "source": [
    "# 1. Initializing the Dynamic Programming Matrix\n",
    "Next, we need to initialize the dynamic programming matrix. \n",
    "The matrix is initialized with zeros, except for the first row and first column, which are filled with gap scores."
   ]
  },
  {
   "cell_type": "code",
   "execution_count": 107,
   "id": "0186a3dd",
   "metadata": {},
   "outputs": [],
   "source": [
    "def initialize_matrix(seq1, seq2):\n",
    "    rows = len(seq1) + 1\n",
    "    cols = len(seq2) + 1\n",
    "    matrix = [[0 for j in range(cols)] for i in range(rows)]\n",
    "    for i in range(1, rows):\n",
    "#       matrix[i][0] = gap_score * i\n",
    "        matrix[i][0] = 0\n",
    "    for j in range(1, cols):\n",
    "#       matrix[0][j] = gap_score * j\n",
    "        matrix[0][j] = 0\n",
    "    return matrix"
   ]
  },
  {
   "cell_type": "markdown",
   "id": "18027464",
   "metadata": {},
   "source": [
    "### 2. Filling in the Dynamic Programming Matrix\n",
    "Now, we can fill in the dynamic programming matrix. We do this by iterating over each cell in the matrix and computing the score for that cell based on the scores of the cells to its left, above, and diagonally above and to the left."
   ]
  },
  {
   "cell_type": "code",
   "execution_count": 108,
   "id": "ae7b128d",
   "metadata": {},
   "outputs": [],
   "source": [
    "from tabulate import tabulate\n",
    "\n",
    "def fill_matrix(seq1, seq2):\n",
    "    rows = len(seq1) + 1\n",
    "    cols = len(seq2) + 1\n",
    "    matrix = initialize_matrix(seq1, seq2)\n",
    "    for j in range(1, cols):\n",
    "        for i in range(1, rows):\n",
    "            match = matrix[i-1][j-1] + (match_score if seq1[i-1] == seq2[j-1] else mismatch_score)\n",
    "            delete = matrix[i-1][j] + gap_score\n",
    "            insert = matrix[i][j-1] + gap_score\n",
    "            matrix[i][j] = max(0, match, delete, insert)\n",
    "    return matrix\n"
   ]
  },
  {
   "cell_type": "markdown",
   "id": "4548f2d5",
   "metadata": {},
   "source": [
    "Now that the functions are defined we can start playing with some sequences, and observe the scoring matrices in real time. Before moving to the next section of the code be sure to play with the scoring that we defined earlier, matches, mismtaches and gaps.\n",
    "\n",
    "#### Run the code below, try different sequences and scoring systems\n",
    "\n",
    "#### Pair 1:\n",
    "\n",
    "AGGGTAGGATA\n",
    "\n",
    "GTAGGGATA\n",
    "\n",
    "#### Pair 2:   \n",
    "\n",
    "CATATCGATGCAGAAATCGAAA\n",
    "\n",
    "ATTCGATGCTAGAAATCTAGCA\n"
   ]
  },
  {
   "cell_type": "code",
   "execution_count": 126,
   "id": "57f9411c",
   "metadata": {
    "scrolled": true
   },
   "outputs": [
    {
     "name": "stdout",
     "output_type": "stream",
     "text": [
      "Enter the first sequence: GGAGCGGAATAA\n",
      "Enter the second sequence: TAAGTAAAT\n",
      "          T    A    A    G    T    A    A    A    T\n",
      "--  --  ---  ---  ---  ---  ---  ---  ---  ---  ---\n",
      "     0    0    0    0    0    0    0    0    0    0\n",
      "G    0    0    0    0    1    0    0    0    0    0\n",
      "G    0    0    0    0    1    0    0    0    0    0\n",
      "A    0    0    1    1    0    0    1    1    1    0\n",
      "G    0    0    0    0    2    0    0    0    0    0\n",
      "C    0    0    0    0    0    1    0    0    0    0\n",
      "G    0    0    0    0    1    0    0    0    0    0\n",
      "G    0    0    0    0    1    0    0    0    0    0\n",
      "A    0    0    1    1    0    0    1    1    1    0\n",
      "A    0    0    1    2    0    0    1    2    2    0\n",
      "T    0    1    0    0    1    1    0    0    1    3\n",
      "A    0    0    2    1    0    0    2    1    1    1\n",
      "A    0    0    1    3    1    0    1    3    2    0\n"
     ]
    }
   ],
   "source": [
    "from tabulate import tabulate\n",
    "\n",
    "# Get input sequences from the user\n",
    "seq1 = input(\"Enter the first sequence: \")\n",
    "seq2 = input(\"Enter the second sequence: \")\n",
    "\n",
    "# Fill the matrix and print it out\n",
    "matrix_table = fill_matrix(seq1, seq2)\n",
    "headers = [\"\"] + list(seq2)\n",
    "row_names = [\"\"] + list(seq1)\n",
    "print(tabulate(matrix_table, headers=headers, showindex=row_names))\n",
    "#print(matrix_table)"
   ]
  },
  {
   "cell_type": "markdown",
   "id": "400b70e3",
   "metadata": {},
   "source": [
    "### (◎-◎；) Before moving to the next section try to manually trace the path for the best alignment!!!!\n",
    "\n",
    "##### Remember start at the largest number and move towards the upper left corner finding the path ends once you reach zero"
   ]
  },
  {
   "cell_type": "markdown",
   "id": "be3ee7b7",
   "metadata": {},
   "source": [
    "### 3. Tracing Back Through the Matrix\n",
    "Finally, we need to trace back through the matrix to find the optimal local alignment. We do this by starting at the cell with the largest value and move towards the upper left corner, until we reach zero.\n"
   ]
  },
  {
   "cell_type": "code",
   "execution_count": 127,
   "id": "5f597d5e",
   "metadata": {},
   "outputs": [
    {
     "name": "stdout",
     "output_type": "stream",
     "text": [
      "Alignment Score: 0\n",
      "Sequence 1: \n",
      "Sequence 2: \n"
     ]
    }
   ],
   "source": [
    "def traceback(seq1, seq2, matrix):\n",
    "    rows = len(seq1)\n",
    "    cols = len(seq2)\n",
    "    align1 = ''\n",
    "    align2 = ''\n",
    "    score = 0\n",
    "    while matrix[rows][cols] != 0:\n",
    "        if matrix[rows][cols] == matrix[rows-1][cols] + gap_score:\n",
    "            align1 = seq1[rows-1] + align1\n",
    "            align2 = '-' + align2\n",
    "            rows -= 1\n",
    "        elif matrix[rows][cols] == matrix[rows][cols-1] + gap_score:\n",
    "            align1 = '-' + align1\n",
    "            align2 = seq2[cols-1] + align2\n",
    "            cols -= 1\n",
    "        else:\n",
    "            align1 = seq1[rows-1] + align1\n",
    "            align2 = seq2[cols-1] + align2\n",
    "            score += match_score if seq1[rows-1] == seq2[cols-1] else mismatch_score\n",
    "            rows -= 1\n",
    "            cols -= 1\n",
    "    return align1, align2, score\n",
    "\n",
    "\n",
    "matrix = fill_matrix(seq1, seq2)\n",
    "align1, align2, score = traceback(seq1, seq2, matrix)\n",
    "\n",
    "print(f'Alignment Score: {score}')\n",
    "print(f'Sequence 1: {align1}')\n",
    "print(f'Sequence 2: {align2}')\n"
   ]
  },
  {
   "cell_type": "code",
   "execution_count": 130,
   "id": "374cebb8",
   "metadata": {},
   "outputs": [
    {
     "name": "stdout",
     "output_type": "stream",
     "text": [
      "Name: tabulate\n",
      "Version: 0.9.0\n",
      "Summary: Pretty-print tabular data\n",
      "Home-page: \n",
      "Author: \n",
      "Author-email: Sergey Astanin <s.astanin@gmail.com>\n",
      "License: MIT\n",
      "Location: /Users/computer5949/venv/lib/python3.8/site-packages\n",
      "Requires: \n",
      "Required-by: \n",
      "Note: you may need to restart the kernel to use updated packages.\n"
     ]
    }
   ],
   "source": [
    "pip show tabulate"
   ]
  },
  {
   "cell_type": "code",
   "execution_count": null,
   "id": "e6f3351c",
   "metadata": {},
   "outputs": [],
   "source": []
  }
 ],
 "metadata": {
  "kernelspec": {
   "display_name": "myenv",
   "language": "python",
   "name": "myenv"
  },
  "language_info": {
   "codemirror_mode": {
    "name": "ipython",
    "version": 3
   },
   "file_extension": ".py",
   "mimetype": "text/x-python",
   "name": "python",
   "nbconvert_exporter": "python",
   "pygments_lexer": "ipython3",
   "version": "3.8.9"
  }
 },
 "nbformat": 4,
 "nbformat_minor": 5
}
